{
  "cells": [
    {
      "cell_type": "markdown",
      "metadata": {
        "id": "view-in-github",
        "colab_type": "text"
      },
      "source": [
        "<a href=\"https://colab.research.google.com/github/aniketSanyal/OverfittingInRML/blob/main/rml.ipynb\" target=\"_parent\"><img src=\"https://colab.research.google.com/assets/colab-badge.svg\" alt=\"Open In Colab\"/></a>"
      ]
    },
    {
      "cell_type": "markdown",
      "metadata": {
        "id": "vtSuGqoBLSBe"
      },
      "source": [
        "### Step 1: Setup Environment and Load Datasets\n",
        "\n",
        "1. **Import Libraries**: We'll import PyTorch, torchvision, and other necessary libraries.\n",
        "2. **Load Datasets**: Load MNIST and CIFAR10 datasets using torchvision.\n",
        "3. **Data Loaders**: Create data loaders for both datasets for easy batch processing."
      ]
    },
    {
      "cell_type": "code",
      "execution_count": 17,
      "metadata": {
        "vscode": {
          "languageId": "plaintext"
        },
        "colab": {
          "base_uri": "https://localhost:8080/"
        },
        "id": "DzXGjNPgLSBh",
        "outputId": "ec4212d9-4409-4c8a-ddea-f7cd9312b125"
      },
      "outputs": [
        {
          "output_type": "stream",
          "name": "stdout",
          "text": [
            "Files already downloaded and verified\n"
          ]
        }
      ],
      "source": [
        "import torch\n",
        "import torch.nn as nn\n",
        "import torch.nn.functional as F\n",
        "import torch.optim as optim\n",
        "from torchvision import datasets, transforms\n",
        "from torch.utils.data import DataLoader\n",
        "\n",
        "\n",
        "# Device configuration - GPU if available\n",
        "device = torch.device('cuda' if torch.cuda.is_available() else 'cpu')\n",
        "\n",
        "# MNIST dataset\n",
        "mnist_train = torchvision.datasets.MNIST(root='./data', train=True, transform=transforms.ToTensor(), download=True)\n",
        "mnist_test = torchvision.datasets.MNIST(root='./data', train=False, transform=transforms.ToTensor())\n",
        "mnist_train_loader = DataLoader(dataset=mnist_train, batch_size=64, shuffle=True)\n",
        "mnist_test_loader = DataLoader(dataset=mnist_test, batch_size=64, shuffle=False)\n",
        "\n",
        "# CIFAR10 dataset\n",
        "cifar_train = torchvision.datasets.CIFAR10(root='./data', train=True, transform=transforms.ToTensor(), download=True)\n",
        "cifar_test = torchvision.datasets.CIFAR10(root='./data', train=False, transform=transforms.ToTensor())\n",
        "cifar_train_loader = DataLoader(dataset=cifar_train, batch_size=64, shuffle=True)\n",
        "cifar_test_loader = DataLoader(dataset=cifar_test, batch_size=64, shuffle=False)\n"
      ]
    },
    {
      "cell_type": "markdown",
      "metadata": {
        "id": "ZS2HfPz8LSBi"
      },
      "source": [
        "### Step 2: Model Definition\n",
        "\n",
        "We'll define simple CNN architectures suitable for each dataset. MNIST images are grayscale and smaller, while CIFAR10 images are color and larger.\n",
        "\n",
        "#### MNIST CNN Model:\n",
        "- Simple architecture with a couple of convolutional layers.\n",
        "\n",
        "#### CIFAR10 CNN Model:\n",
        "- A bit more complex due to the nature of the dataset (color images)."
      ]
    },
    {
      "cell_type": "code",
      "execution_count": 18,
      "metadata": {
        "vscode": {
          "languageId": "plaintext"
        },
        "id": "PafvVh37LSBi"
      },
      "outputs": [],
      "source": [
        "import torch.nn as nn\n",
        "import torch.nn.functional as F\n",
        "\n",
        "# CNN for MNIST\n",
        "class MNIST_CNN(nn.Module):\n",
        "    def __init__(self):\n",
        "        super(MNIST_CNN, self).__init__()\n",
        "        self.conv1 = nn.Conv2d(1, 32, kernel_size=5, padding=2)\n",
        "        self.conv2 = nn.Conv2d(32, 64, kernel_size=5, padding=2)\n",
        "        self.fc1 = nn.Linear(7*7*64, 1024)\n",
        "        self.fc2 = nn.Linear(1024, 10)\n",
        "\n",
        "    def forward(self, x):\n",
        "        x = F.relu(F.max_pool2d(self.conv1(x), 2))\n",
        "        x = F.relu(F.max_pool2d(self.conv2(x), 2))\n",
        "        x = x.view(x.size(0), -1) # Flatten\n",
        "        x = F.relu(self.fc1(x))\n",
        "        x = self.fc2(x)\n",
        "        return x\n",
        "\n",
        "# CNN for CIFAR10\n",
        "class CIFAR10_CNN(nn.Module):\n",
        "    def __init__(self):\n",
        "        super(CIFAR10_CNN, self).__init__()\n",
        "        self.conv1 = nn.Conv2d(3, 64, kernel_size=5, padding=2)\n",
        "        self.conv2 = nn.Conv2d(64, 128, kernel_size=5, padding=2)\n",
        "        self.fc1 = nn.Linear(8*8*128, 1024)\n",
        "        self.fc2 = nn.Linear(1024, 10)\n",
        "\n",
        "    def forward(self, x):\n",
        "        x = F.relu(F.max_pool2d(self.conv1(x), 2))\n",
        "        x = F.relu(F.max_pool2d(self.conv2(x), 2))\n",
        "        x = x.view(x.size(0), -1) # Flatten\n",
        "        x = F.relu(self.fc1(x))\n",
        "        x = self.fc2(x)\n",
        "        return x\n"
      ]
    },
    {
      "cell_type": "markdown",
      "metadata": {
        "id": "pvsMeJqDLSBi"
      },
      "source": [
        "### Step 3: FGSM Function\n",
        "The FGSM method creates adversarial examples by adding a small perturbation to the original image in the direction of the gradient of the loss with respect to the input image.\n",
        "\n",
        "### Step 4: PGD Function\n",
        "PGD is a more powerful attack compared to FGSM. It applies the perturbation iteratively and projects the perturbed image back into the allowed range after each step."
      ]
    },
    {
      "cell_type": "code",
      "execution_count": 19,
      "metadata": {
        "vscode": {
          "languageId": "plaintext"
        },
        "id": "tKwfDjtULSBj"
      },
      "outputs": [],
      "source": [
        "def fgsm_attack(image, epsilon, data_grad):\n",
        "    perturbed_image = image + epsilon * data_grad.sign()\n",
        "    perturbed_image = torch.clamp(perturbed_image, 0, 1)\n",
        "    return perturbed_image\n",
        "\n",
        "def pgd_attack(model, image, label, epsilon, alpha, iters, device):\n",
        "    perturbation = torch.zeros_like(image).to(device)\n",
        "    perturbation.requires_grad = True\n",
        "\n",
        "    for _ in range(iters):\n",
        "        outputs = model(image + perturbation)\n",
        "        loss = F.cross_entropy(outputs, label)\n",
        "        model.zero_grad()\n",
        "        loss.backward()\n",
        "\n",
        "        perturbation.data = perturbation.data + alpha * perturbation.grad.data.sign()\n",
        "        perturbation.data = torch.clamp(perturbation.data, -epsilon, epsilon)\n",
        "\n",
        "    return image + perturbation.detach()\n"
      ]
    },
    {
      "cell_type": "markdown",
      "metadata": {
        "id": "Ff131KuILSBj"
      },
      "source": [
        "### Step 5: Training Loop with Adversarial Training\n",
        "\n",
        "We'll:\n",
        "1. Load pretrained models or train simple models for MNIST and CIFAR10.\n",
        "2. Select a few sample images from both datasets.\n",
        "3. Apply FGSM and PGD attacks on these samples.\n",
        "4. Visualize the results to see the effect of the attacks."
      ]
    },
    {
      "cell_type": "code",
      "execution_count": 20,
      "metadata": {
        "vscode": {
          "languageId": "plaintext"
        },
        "colab": {
          "base_uri": "https://localhost:8080/"
        },
        "id": "iU3YdPOZLSBj",
        "outputId": "8a1c1fd6-7189-4cb0-d93c-9908f3aaf196"
      },
      "outputs": [
        {
          "output_type": "stream",
          "name": "stdout",
          "text": [
            "Train Epoch: 1 [0/50000 (0%)]\tLoss: 2.315859\n",
            "Train Epoch: 1 [6400/50000 (13%)]\tLoss: 1.958732\n",
            "Train Epoch: 1 [12800/50000 (26%)]\tLoss: 1.824988\n",
            "Train Epoch: 1 [19200/50000 (38%)]\tLoss: 1.746801\n",
            "Train Epoch: 1 [25600/50000 (51%)]\tLoss: 1.721272\n",
            "Train Epoch: 1 [32000/50000 (64%)]\tLoss: 1.812216\n",
            "Train Epoch: 1 [38400/50000 (77%)]\tLoss: 1.779688\n",
            "Train Epoch: 1 [44800/50000 (90%)]\tLoss: 1.647013\n",
            "Train Epoch: 2 [0/50000 (0%)]\tLoss: 1.643064\n",
            "Train Epoch: 2 [6400/50000 (13%)]\tLoss: 1.516807\n",
            "Train Epoch: 2 [12800/50000 (26%)]\tLoss: 1.660743\n",
            "Train Epoch: 2 [19200/50000 (38%)]\tLoss: 1.516099\n",
            "Train Epoch: 2 [25600/50000 (51%)]\tLoss: 1.672012\n",
            "Train Epoch: 2 [32000/50000 (64%)]\tLoss: 1.429101\n",
            "Train Epoch: 2 [38400/50000 (77%)]\tLoss: 1.803836\n",
            "Train Epoch: 2 [44800/50000 (90%)]\tLoss: 1.552976\n",
            "Train Epoch: 3 [0/50000 (0%)]\tLoss: 1.437318\n",
            "Train Epoch: 3 [6400/50000 (13%)]\tLoss: 1.522574\n",
            "Train Epoch: 3 [12800/50000 (26%)]\tLoss: 1.275856\n",
            "Train Epoch: 3 [19200/50000 (38%)]\tLoss: 1.527760\n",
            "Train Epoch: 3 [25600/50000 (51%)]\tLoss: 1.525917\n",
            "Train Epoch: 3 [32000/50000 (64%)]\tLoss: 1.557748\n",
            "Train Epoch: 3 [38400/50000 (77%)]\tLoss: 1.578059\n",
            "Train Epoch: 3 [44800/50000 (90%)]\tLoss: 1.295583\n",
            "Train Epoch: 4 [0/50000 (0%)]\tLoss: 1.302956\n",
            "Train Epoch: 4 [6400/50000 (13%)]\tLoss: 1.298551\n",
            "Train Epoch: 4 [12800/50000 (26%)]\tLoss: 1.417545\n",
            "Train Epoch: 4 [19200/50000 (38%)]\tLoss: 1.441844\n",
            "Train Epoch: 4 [25600/50000 (51%)]\tLoss: 1.417801\n",
            "Train Epoch: 4 [32000/50000 (64%)]\tLoss: 1.428376\n",
            "Train Epoch: 4 [38400/50000 (77%)]\tLoss: 1.393023\n",
            "Train Epoch: 4 [44800/50000 (90%)]\tLoss: 1.632866\n",
            "Train Epoch: 5 [0/50000 (0%)]\tLoss: 1.474569\n",
            "Train Epoch: 5 [6400/50000 (13%)]\tLoss: 1.342797\n",
            "Train Epoch: 5 [12800/50000 (26%)]\tLoss: 1.414050\n",
            "Train Epoch: 5 [19200/50000 (38%)]\tLoss: 1.445361\n",
            "Train Epoch: 5 [25600/50000 (51%)]\tLoss: 1.411666\n",
            "Train Epoch: 5 [32000/50000 (64%)]\tLoss: 1.411724\n",
            "Train Epoch: 5 [38400/50000 (77%)]\tLoss: 1.119929\n",
            "Train Epoch: 5 [44800/50000 (90%)]\tLoss: 1.387262\n",
            "Train Epoch: 6 [0/50000 (0%)]\tLoss: 1.413465\n",
            "Train Epoch: 6 [6400/50000 (13%)]\tLoss: 1.179875\n",
            "Train Epoch: 6 [12800/50000 (26%)]\tLoss: 1.268340\n",
            "Train Epoch: 6 [19200/50000 (38%)]\tLoss: 1.239874\n",
            "Train Epoch: 6 [25600/50000 (51%)]\tLoss: 1.371716\n",
            "Train Epoch: 6 [32000/50000 (64%)]\tLoss: 1.408767\n",
            "Train Epoch: 6 [38400/50000 (77%)]\tLoss: 1.369330\n",
            "Train Epoch: 6 [44800/50000 (90%)]\tLoss: 1.035646\n",
            "Train Epoch: 7 [0/50000 (0%)]\tLoss: 1.181632\n",
            "Train Epoch: 7 [6400/50000 (13%)]\tLoss: 0.869215\n",
            "Train Epoch: 7 [12800/50000 (26%)]\tLoss: 1.303436\n",
            "Train Epoch: 7 [19200/50000 (38%)]\tLoss: 0.895034\n",
            "Train Epoch: 7 [25600/50000 (51%)]\tLoss: 1.132661\n",
            "Train Epoch: 7 [32000/50000 (64%)]\tLoss: 1.495794\n",
            "Train Epoch: 7 [38400/50000 (77%)]\tLoss: 1.495623\n",
            "Train Epoch: 7 [44800/50000 (90%)]\tLoss: 1.105170\n",
            "Train Epoch: 8 [0/50000 (0%)]\tLoss: 1.161192\n",
            "Train Epoch: 8 [6400/50000 (13%)]\tLoss: 1.142442\n",
            "Train Epoch: 8 [12800/50000 (26%)]\tLoss: 1.011065\n",
            "Train Epoch: 8 [19200/50000 (38%)]\tLoss: 1.284647\n",
            "Train Epoch: 8 [25600/50000 (51%)]\tLoss: 1.244305\n",
            "Train Epoch: 8 [32000/50000 (64%)]\tLoss: 1.161341\n",
            "Train Epoch: 8 [38400/50000 (77%)]\tLoss: 1.305682\n",
            "Train Epoch: 8 [44800/50000 (90%)]\tLoss: 1.093800\n",
            "Train Epoch: 9 [0/50000 (0%)]\tLoss: 1.150940\n",
            "Train Epoch: 9 [6400/50000 (13%)]\tLoss: 0.846618\n",
            "Train Epoch: 9 [12800/50000 (26%)]\tLoss: 1.295486\n",
            "Train Epoch: 9 [19200/50000 (38%)]\tLoss: 0.854738\n",
            "Train Epoch: 9 [25600/50000 (51%)]\tLoss: 1.210034\n",
            "Train Epoch: 9 [32000/50000 (64%)]\tLoss: 1.115780\n",
            "Train Epoch: 9 [38400/50000 (77%)]\tLoss: 1.195093\n",
            "Train Epoch: 9 [44800/50000 (90%)]\tLoss: 0.896604\n",
            "Train Epoch: 10 [0/50000 (0%)]\tLoss: 0.880256\n",
            "Train Epoch: 10 [6400/50000 (13%)]\tLoss: 1.194150\n",
            "Train Epoch: 10 [12800/50000 (26%)]\tLoss: 1.127394\n",
            "Train Epoch: 10 [19200/50000 (38%)]\tLoss: 1.118978\n",
            "Train Epoch: 10 [25600/50000 (51%)]\tLoss: 1.205322\n",
            "Train Epoch: 10 [32000/50000 (64%)]\tLoss: 1.006963\n",
            "Train Epoch: 10 [38400/50000 (77%)]\tLoss: 1.288434\n",
            "Train Epoch: 10 [44800/50000 (90%)]\tLoss: 1.209464\n"
          ]
        }
      ],
      "source": [
        "def train(model, device, train_loader, optimizer, epoch, attack=None, epsilon=0.01):\n",
        "    model.train()\n",
        "    for batch_idx, (data, target) in enumerate(train_loader):\n",
        "        data, target = data.to(device), target.to(device)\n",
        "\n",
        "        if attack is not None:\n",
        "            data.requires_grad = True\n",
        "            output = model(data)\n",
        "            loss = F.cross_entropy(output, target)\n",
        "            model.zero_grad()\n",
        "            loss.backward()\n",
        "            data_grad = data.grad.data\n",
        "            data = attack(model, data, target, epsilon, 0.01, 40, device) if attack == pgd_attack else fgsm_attack(data, epsilon, data_grad)\n",
        "\n",
        "        optimizer.zero_grad()\n",
        "        output = model(data)\n",
        "        loss = F.cross_entropy(output, target)\n",
        "        loss.backward()\n",
        "        optimizer.step()\n",
        "\n",
        "        if batch_idx % 100 == 0:\n",
        "            print(f\"Train Epoch: {epoch} [{batch_idx * len(data)}/{len(train_loader.dataset)} ({100. * batch_idx / len(train_loader):.0f}%)]\\tLoss: {loss.item():.6f}\")\n",
        "\n",
        "# Example usage\n",
        "model = CIFAR10_CNN().to(device)\n",
        "optimizer = optim.Adam(model.parameters(), lr=0.001)\n",
        "\n",
        "for epoch in range(1, 11):\n",
        "    train(model, device, cifar_train_loader, optimizer, epoch, attack=fgsm_attack, epsilon=0.01)\n",
        "    # Optionally, test your model here\n"
      ]
    }
  ],
  "metadata": {
    "language_info": {
      "name": "python"
    },
    "colab": {
      "provenance": [],
      "gpuType": "T4",
      "include_colab_link": true
    },
    "kernelspec": {
      "name": "python3",
      "display_name": "Python 3"
    },
    "accelerator": "GPU"
  },
  "nbformat": 4,
  "nbformat_minor": 0
}