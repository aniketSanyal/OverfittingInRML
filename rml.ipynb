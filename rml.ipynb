{
  "cells": [
    {
      "cell_type": "markdown",
      "metadata": {
        "id": "view-in-github",
        "colab_type": "text"
      },
      "source": [
        "<a href=\"https://colab.research.google.com/github/aniketSanyal/OverfittingInRML/blob/main/rml.ipynb\" target=\"_parent\"><img src=\"https://colab.research.google.com/assets/colab-badge.svg\" alt=\"Open In Colab\"/></a>"
      ]
    },
    {
      "cell_type": "markdown",
      "metadata": {
        "id": "vtSuGqoBLSBe"
      },
      "source": [
        "### Step 1: Setup Environment and Load Datasets\n",
        "\n",
        "1. **Import Libraries**: We'll import PyTorch, torchvision, and other necessary libraries.\n",
        "2. **Load Datasets**: Load MNIST and CIFAR10 datasets using torchvision.\n",
        "3. **Data Loaders**: Create data loaders for both datasets for easy batch processing."
      ]
    },
    {
      "cell_type": "code",
      "execution_count": 45,
      "metadata": {
        "vscode": {
          "languageId": "plaintext"
        },
        "colab": {
          "base_uri": "https://localhost:8080/"
        },
        "id": "DzXGjNPgLSBh",
        "outputId": "6d1d3c5d-effd-4748-a1e2-9c0f7c8b4410"
      },
      "outputs": [
        {
          "output_type": "stream",
          "name": "stdout",
          "text": [
            "Files already downloaded and verified\n"
          ]
        }
      ],
      "source": [
        "import torch\n",
        "from torchvision import datasets, transforms\n",
        "from torch.utils.data import DataLoader\n",
        "\n",
        "# Transformations\n",
        "transform = transforms.Compose([\n",
        "    transforms.ToTensor(),\n",
        "    transforms.Normalize((0.5,), (0.5,))  # Adjust these values for CIFAR10\n",
        "])\n",
        "\n",
        "# Load CIFAR10 Dataset\n",
        "cifar_train_dataset = datasets.CIFAR10(root='./data', train=True, download=True, transform=transform)\n",
        "cifar_train_loader = DataLoader(cifar_train_dataset, batch_size=64, shuffle=True)\n",
        "\n",
        "# Load MNIST Dataset\n",
        "mnist_train_dataset = datasets.MNIST(root='./data', train=True, download=True, transform=transform)\n",
        "mnist_train_loader = DataLoader(mnist_train_dataset, batch_size=64, shuffle=True)"
      ]
    },
    {
      "cell_type": "markdown",
      "metadata": {
        "id": "ZS2HfPz8LSBi"
      },
      "source": [
        "### Step 2: Model Definition\n",
        "\n",
        "We'll define simple CNN architectures suitable for each dataset. MNIST images are grayscale and smaller, while CIFAR10 images are color and larger.\n",
        "\n",
        "#### MNIST CNN Model:\n",
        "- Simple architecture with a couple of convolutional layers.\n",
        "\n",
        "#### CIFAR10 CNN Model:\n",
        "- A bit more complex due to the nature of the dataset (color images)."
      ]
    },
    {
      "cell_type": "code",
      "execution_count": 46,
      "metadata": {
        "vscode": {
          "languageId": "plaintext"
        },
        "id": "PafvVh37LSBi"
      },
      "outputs": [],
      "source": [
        "import torch.nn as nn\n",
        "import torch.nn.functional as F\n",
        "\n",
        "# CNN for MNIST\n",
        "class MNIST_CNN(nn.Module):\n",
        "    def __init__(self):\n",
        "        super(MNIST_CNN, self).__init__()\n",
        "        self.conv1 = nn.Conv2d(1, 32, kernel_size=5, padding=2)\n",
        "        self.conv2 = nn.Conv2d(32, 64, kernel_size=5, padding=2)\n",
        "        self.fc1 = nn.Linear(7*7*64, 1024)\n",
        "        self.fc2 = nn.Linear(1024, 10)\n",
        "\n",
        "    def forward(self, x):\n",
        "        x = F.relu(F.max_pool2d(self.conv1(x), 2))\n",
        "        x = F.relu(F.max_pool2d(self.conv2(x), 2))\n",
        "        x = x.view(x.size(0), -1) # Flatten\n",
        "        x = F.relu(self.fc1(x))\n",
        "        x = self.fc2(x)\n",
        "        return x\n",
        "\n",
        "# CNN for CIFAR10\n",
        "class CIFAR10_CNN(nn.Module):\n",
        "    def __init__(self):\n",
        "        super(CIFAR10_CNN, self).__init__()\n",
        "        self.conv1 = nn.Conv2d(3, 64, kernel_size=5, padding=2)\n",
        "        self.conv2 = nn.Conv2d(64, 128, kernel_size=5, padding=2)\n",
        "        self.fc1 = nn.Linear(8*8*128, 1024)\n",
        "        self.fc2 = nn.Linear(1024, 10)\n",
        "\n",
        "    def forward(self, x):\n",
        "        x = F.relu(F.max_pool2d(self.conv1(x), 2))\n",
        "        x = F.relu(F.max_pool2d(self.conv2(x), 2))\n",
        "        x = x.view(x.size(0), -1) # Flatten\n",
        "        x = F.relu(self.fc1(x))\n",
        "        x = self.fc2(x)\n",
        "        return x\n"
      ]
    },
    {
      "cell_type": "markdown",
      "metadata": {
        "id": "pvsMeJqDLSBi"
      },
      "source": [
        "### Step 3: FGSM Function\n",
        "The FGSM method creates adversarial examples by adding a small perturbation to the original image in the direction of the gradient of the loss with respect to the input image.\n",
        "\n",
        "### Step 4: PGD Function\n",
        "PGD is a more powerful attack compared to FGSM. It applies the perturbation iteratively and projects the perturbed image back into the allowed range after each step."
      ]
    },
    {
      "cell_type": "code",
      "execution_count": 47,
      "metadata": {
        "vscode": {
          "languageId": "plaintext"
        },
        "id": "tKwfDjtULSBj"
      },
      "outputs": [],
      "source": [
        "def fgsm_attack(model, images, labels, epsilon, device):\n",
        "    images.requires_grad = True\n",
        "    outputs = model(images)\n",
        "    model.zero_grad()\n",
        "    loss = F.cross_entropy(outputs, labels)\n",
        "    loss.backward()\n",
        "\n",
        "    attack_images = images + epsilon * images.grad.sign()\n",
        "    attack_images = torch.clamp(attack_images, 0, 1)\n",
        "    return attack_images\n",
        "\n",
        "def pgd_attack(model, images, labels, epsilon, alpha, iters, device):\n",
        "    ori_images = images.data\n",
        "    for i in range(iters):\n",
        "        images.requires_grad = True\n",
        "        outputs = model(images)\n",
        "        model.zero_grad()\n",
        "        loss = F.cross_entropy(outputs, labels)\n",
        "        loss.backward()\n",
        "\n",
        "        attack_images = images + alpha * images.grad.sign()\n",
        "        eta = torch.clamp(attack_images - ori_images, min=-epsilon, max=epsilon)\n",
        "        images = torch.clamp(ori_images + eta, 0, 1).detach_()\n",
        "    return images\n"
      ]
    },
    {
      "cell_type": "markdown",
      "metadata": {
        "id": "Ff131KuILSBj"
      },
      "source": [
        "### Step 5: Training Loop with Adversarial Training\n",
        "\n",
        "We'll:\n",
        "1. Load pretrained models or train simple models for MNIST and CIFAR10.\n",
        "2. Select a few sample images from both datasets.\n",
        "3. Apply FGSM and PGD attacks on these samples.\n",
        "4. Visualize the results to see the effect of the attacks."
      ]
    },
    {
      "cell_type": "code",
      "execution_count": null,
      "metadata": {
        "vscode": {
          "languageId": "plaintext"
        },
        "id": "iU3YdPOZLSBj"
      },
      "outputs": [],
      "source": [
        "def train(model, device, train_loader, optimizer, epoch, attack=None, epsilon=0.01):\n",
        "    model.train()\n",
        "    for batch_idx, (data, target) in enumerate(train_loader):\n",
        "        data, target = data.to(device), target.to(device)\n",
        "\n",
        "        if attack is not None:\n",
        "            data.requires_grad = True\n",
        "            output = model(data)\n",
        "            loss = F.cross_entropy(output, target)\n",
        "            model.zero_grad()\n",
        "            loss.backward()\n",
        "            data_grad = data.grad.data\n",
        "            data = attack(model, data, target, epsilon, 0.01, 40, device) if attack == pgd_attack else fgsm_attack(data, epsilon, data_grad)\n",
        "\n",
        "        optimizer.zero_grad()\n",
        "        output = model(data)\n",
        "        loss = F.cross_entropy(output, target)\n",
        "        loss.backward()\n",
        "        optimizer.step()\n",
        "\n",
        "        if batch_idx % 100 == 0:\n",
        "            print(f\"Train Epoch: {epoch} [{batch_idx * len(data)}/{len(train_loader.dataset)} ({100. * batch_idx / len(train_loader):.0f}%)]\\tLoss: {loss.item():.6f}\")\n",
        "\n",
        "# Example usage\n",
        "model = CIFAR10_CNN().to(device)\n",
        "\n",
        "epsilon = 0.1\n",
        "num_epochs = 10\n",
        "optimizer = optim.Adam(model.parameters(), lr=0.001)\n",
        "\n",
        "for epoch in range(num_epochs):\n",
        "    for data, target in cifar_train_loader:\n",
        "        data, target = data.to(device), target.to(device)\n",
        "\n",
        "        # Perform a standard training pass on the original data\n",
        "        optimizer.zero_grad()\n",
        "        output = model(data)\n",
        "        loss = F.cross_entropy(output, target)\n",
        "        loss.backward()\n",
        "        optimizer.step()\n",
        "\n",
        "        # Generate adversarial examples using FGSM or PGD\n",
        "        adv_data = fgsm_attack(model, data, target, epsilon, device)  # or pgd_attack\n",
        "\n",
        "        # Re-train (or test) the model using the adversarial examples\n",
        "        optimizer.zero_grad()\n",
        "        adv_output = model(adv_data)\n",
        "        adv_loss = F.cross_entropy(adv_output, target)\n",
        "        adv_loss.backward()\n",
        "        optimizer.step()\n"
      ]
    },
    {
      "cell_type": "markdown",
      "source": [
        "# Result"
      ],
      "metadata": {
        "id": "sEO3m-9gRx0u"
      }
    },
    {
      "cell_type": "code",
      "source": [
        "def visualize(image, title):\n",
        "    npimg = image.numpy()\n",
        "    plt.figure(figsize=(8, 8))\n",
        "    plt.imshow(np.transpose(npimg, (1, 2, 0)))\n",
        "    plt.title(title)\n",
        "    plt.show()\n",
        "\n",
        "# Take a sample for visualization\n",
        "dataiter = iter(cifar_test_loader)\n",
        "images, labels = next(dataiter)\n",
        "\n",
        "# FGSM\n",
        "images.requires_grad = True\n",
        "output = model_cifar(images.to(device))\n",
        "loss = F.cross_entropy(output, labels.to(device))\n",
        "model_cifar.zero_grad()\n",
        "loss.backward()\n",
        "\n",
        "perturbed_data = fgsm_attack(images, 0.05, images.grad)\n",
        "visualize(torchvision.utils.make_grid(perturbed_data.cpu()), \"FGSM Attack on CIFAR10\")\n",
        "\n",
        "# PGD\n",
        "perturbed_data_pgd = pgd_attack(model_cifar, images.to(device), labels.to(device), 0.05, 0.01, 40, device)\n",
        "visualize(torchvision.utils.make_grid(perturbed_data_pgd.cpu()), \"PGD Attack on CIFAR10\")\n",
        "\n"
      ],
      "metadata": {
        "id": "Hw8ZdKqzR1W1"
      },
      "execution_count": null,
      "outputs": []
    }
  ],
  "metadata": {
    "language_info": {
      "name": "python"
    },
    "colab": {
      "provenance": [],
      "gpuType": "T4",
      "include_colab_link": true
    },
    "kernelspec": {
      "name": "python3",
      "display_name": "Python 3"
    },
    "accelerator": "GPU"
  },
  "nbformat": 4,
  "nbformat_minor": 0
}