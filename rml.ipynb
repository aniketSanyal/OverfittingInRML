{
 "cells": [
  {
   "cell_type": "markdown",
   "metadata": {},
   "source": [
    "### Step 1: Setup Environment and Load Datasets\n",
    "\n",
    "1. **Import Libraries**: We'll import PyTorch, torchvision, and other necessary libraries.\n",
    "2. **Load Datasets**: Load MNIST and CIFAR10 datasets using torchvision.\n",
    "3. **Data Loaders**: Create data loaders for both datasets for easy batch processing."
   ]
  },
  {
   "cell_type": "code",
   "execution_count": null,
   "metadata": {
    "vscode": {
     "languageId": "plaintext"
    }
   },
   "outputs": [],
   "source": [
    "import torch\n",
    "import torchvision\n",
    "import torchvision.transforms as transforms\n",
    "from torch.utils.data import DataLoader\n",
    "\n",
    "# Device configuration - GPU if available\n",
    "device = torch.device('cuda' if torch.cuda.is_available() else 'cpu')\n",
    "\n",
    "# MNIST dataset\n",
    "mnist_train = torchvision.datasets.MNIST(root='./data', train=True, transform=transforms.ToTensor(), download=True)\n",
    "mnist_test = torchvision.datasets.MNIST(root='./data', train=False, transform=transforms.ToTensor())\n",
    "mnist_train_loader = DataLoader(dataset=mnist_train, batch_size=64, shuffle=True)\n",
    "mnist_test_loader = DataLoader(dataset=mnist_test, batch_size=64, shuffle=False)\n",
    "\n",
    "# CIFAR10 dataset\n",
    "cifar_train = torchvision.datasets.CIFAR10(root='./data', train=True, transform=transforms.ToTensor(), download=True)\n",
    "cifar_test = torchvision.datasets.CIFAR10(root='./data', train=False, transform=transforms.ToTensor())\n",
    "cifar_train_loader = DataLoader(dataset=cifar_train, batch_size=64, shuffle=True)\n",
    "cifar_test_loader = DataLoader(dataset=cifar_test, batch_size=64, shuffle=False)\n"
   ]
  },
  {
   "cell_type": "markdown",
   "metadata": {},
   "source": [
    "### Step 2: Model Definition\n",
    "\n",
    "We'll define simple CNN architectures suitable for each dataset. MNIST images are grayscale and smaller, while CIFAR10 images are color and larger.\n",
    "\n",
    "#### MNIST CNN Model:\n",
    "- Simple architecture with a couple of convolutional layers.\n",
    "\n",
    "#### CIFAR10 CNN Model:\n",
    "- A bit more complex due to the nature of the dataset (color images)."
   ]
  },
  {
   "cell_type": "code",
   "execution_count": null,
   "metadata": {
    "vscode": {
     "languageId": "plaintext"
    }
   },
   "outputs": [],
   "source": [
    "import torch.nn as nn\n",
    "import torch.nn.functional as F\n",
    "\n",
    "# CNN for MNIST\n",
    "class MNIST_CNN(nn.Module):\n",
    "    def __init__(self):\n",
    "        super(MNIST_CNN, self).__init__()\n",
    "        self.conv1 = nn.Conv2d(1, 32, kernel_size=5, padding=2)\n",
    "        self.conv2 = nn.Conv2d(32, 64, kernel_size=5, padding=2)\n",
    "        self.fc1 = nn.Linear(7*7*64, 1024)\n",
    "        self.fc2 = nn.Linear(1024, 10)\n",
    "\n",
    "    def forward(self, x):\n",
    "        x = F.relu(F.max_pool2d(self.conv1(x), 2))\n",
    "        x = F.relu(F.max_pool2d(self.conv2(x), 2))\n",
    "        x = x.view(x.size(0), -1) # Flatten\n",
    "        x = F.relu(self.fc1(x))\n",
    "        x = self.fc2(x)\n",
    "        return x\n",
    "\n",
    "# CNN for CIFAR10\n",
    "class CIFAR10_CNN(nn.Module):\n",
    "    def __init__(self):\n",
    "        super(CIFAR10_CNN, self).__init__()\n",
    "        self.conv1 = nn.Conv2d(3, 64, kernel_size=5, padding=2)\n",
    "        self.conv2 = nn.Conv2d(64, 128, kernel_size=5, padding=2)\n",
    "        self.fc1 = nn.Linear(8*8*128, 1024)\n",
    "        self.fc2 = nn.Linear(1024, 10)\n",
    "\n",
    "    def forward(self, x):\n",
    "        x = F.relu(F.max_pool2d(self.conv1(x), 2))\n",
    "        x = F.relu(F.max_pool2d(self.conv2(x), 2))\n",
    "        x = x.view(x.size(0), -1) # Flatten\n",
    "        x = F.relu(self.fc1(x))\n",
    "        x = self.fc2(x)\n",
    "        return x\n"
   ]
  },
  {
   "cell_type": "markdown",
   "metadata": {},
   "source": [
    "Awesome! Now let's implement the FGSM and PGD functions. 😊💻\n",
    "\n",
    "### Step 3: FGSM Function\n",
    "The FGSM method creates adversarial examples by adding a small perturbation to the original image in the direction of the gradient of the loss with respect to the input image.\n",
    "\n",
    "### Step 4: PGD Function\n",
    "PGD is a more powerful attack compared to FGSM. It applies the perturbation iteratively and projects the perturbed image back into the allowed range after each step."
   ]
  },
  {
   "cell_type": "code",
   "execution_count": null,
   "metadata": {
    "vscode": {
     "languageId": "plaintext"
    }
   },
   "outputs": [],
   "source": [
    "def fgsm_attack(image, epsilon, data_grad):\n",
    "    \"\"\"\n",
    "    Apply FGSM attack.\n",
    "    :param image: Original image\n",
    "    :param epsilon: Perturbation amount\n",
    "    :param data_grad: Gradient of the loss w.r.t. input image\n",
    "    :return: Perturbed image\n",
    "    \"\"\"\n",
    "    # Collect the element-wise sign of the data gradient\n",
    "    sign_data_grad = data_grad.sign()\n",
    "    # Create the perturbed image by adjusting each pixel of the input image\n",
    "    perturbed_image = image + epsilon * sign_data_grad\n",
    "    # Adding clipping to maintain [0,1] range\n",
    "    perturbed_image = torch.clamp(perturbed_image, 0, 1)\n",
    "    return perturbed_image\n",
    "\n",
    "def pgd_attack(model, image, label, epsilon, alpha, iters):\n",
    "    \"\"\"\n",
    "    Apply PGD attack.\n",
    "    :param model: The model to fool\n",
    "    :param image: Original image\n",
    "    :param label: True label of the image\n",
    "    :param epsilon: Perturbation amount\n",
    "    :param alpha: Step size\n",
    "    :param iters: Number of iterations\n",
    "    :return: Perturbed image\n",
    "    \"\"\"\n",
    "    # Initialize perturbation\n",
    "    perturbation = torch.zeros_like(image).to(device)\n",
    "    perturbation.requires_grad = True\n",
    "\n",
    "    for _ in range(iters):\n",
    "        outputs = model(image + perturbation)\n",
    "        loss = F.cross_entropy(outputs, label)\n",
    "        model.zero_grad()\n",
    "        loss.backward()\n",
    "        with torch.no_grad():\n",
    "            # Update perturbation\n",
    "            perturbation += alpha * perturbation.grad.sign()\n",
    "            perturbation = torch.clamp(perturbation, -epsilon, epsilon)\n",
    "    return image + perturbation\n"
   ]
  },
  {
   "cell_type": "markdown",
   "metadata": {},
   "source": [
    "Great! Let's proceed to the testing part where we'll apply FGSM and PGD attacks on some sample images from the MNIST and CIFAR10 datasets. 😊🔬\n",
    "\n",
    "### Step 5: Testing FGSM and PGD\n",
    "\n",
    "We'll:\n",
    "1. Load pretrained models or train simple models for MNIST and CIFAR10.\n",
    "2. Select a few sample images from both datasets.\n",
    "3. Apply FGSM and PGD attacks on these samples.\n",
    "4. Visualize the results to see the effect of the attacks."
   ]
  },
  {
   "cell_type": "code",
   "execution_count": null,
   "metadata": {
    "vscode": {
     "languageId": "plaintext"
    }
   },
   "outputs": [],
   "source": [
    "import matplotlib.pyplot as plt\n",
    "\n",
    "def test(model, device, test_loader, attack, epsilon):\n",
    "    \"\"\"\n",
    "    Test the model on attacked images.\n",
    "    :param model: Trained model\n",
    "    :param device: Device to use\n",
    "    :param test_loader: DataLoader for test data\n",
    "    :param attack: Attack function (FGSM or PGD)\n",
    "    :param epsilon: Epsilon for FGSM, (epsilon, alpha, iters) for PGD\n",
    "    \"\"\"\n",
    "    # Set model to evaluation mode\n",
    "    model.eval()\n",
    "    correct = 0\n",
    "    adv_examples = []\n",
    "\n",
    "    for data, target in test_loader:\n",
    "        data, target = data.to(device), target.to(device)\n",
    "        data.requires_grad = True\n",
    "\n",
    "        # Forward pass\n",
    "        output = model(data)\n",
    "        init_pred = output.max(1, keepdim=True)[1]\n",
    "\n",
    "        # If the initial prediction is wrong, don't bother attacking, just move on\n",
    "        if init_pred.item() != target.item():\n",
    "            continue\n",
    "\n",
    "        # Calculate the loss\n",
    "        loss = F.cross_entropy(output, target)\n",
    "\n",
    "        # Zero all existing gradients\n",
    "        model.zero_grad()\n",
    "\n",
    "        # Backward pass\n",
    "        loss.backward()\n",
    "        data_grad = data.grad.data\n",
    "\n",
    "        # Call attack\n",
    "        if attack == fgsm_attack:\n",
    "            perturbed_data = attack(data, epsilon, data_grad)\n",
    "        else:  # PGD attack\n",
    "            perturbed_data = attack(model, data, target, *epsilon)\n",
    "\n",
    "        # Re-classify the perturbed image\n",
    "        output = model(perturbed_data)\n",
    "\n",
    "        # Check for success\n",
    "        final_pred = output.max(1, keepdim=True)[1]\n",
    "        if final_pred.item() == target.item():\n",
    "            correct += 1\n",
    "        else:\n",
    "            # Save some adv examples for visualization later\n",
    "            if len(adv_examples) < 5:\n",
    "                adv_ex = perturbed_data.squeeze().detach().cpu().numpy()\n",
    "                adv_examples.append((init_pred.item(), final_pred.item(), adv_ex))\n",
    "\n",
    "    # Calculate final accuracy\n",
    "    final_acc = correct / float(len(test_loader))\n",
    "    print(f\"Test Accuracy = {final_acc} under {attack.__name__} Attack with epsilon={epsilon}\")\n",
    "\n",
    "    # Return the accuracy and an adversarial example\n",
    "    return final_acc, adv_examples\n",
    "\n",
    "# Example of testing\n",
    "model = MNIST_CNN().to(device)\n",
    "# Load your trained model or train here\n",
    "\n",
    "# Test FGSM Attack\n",
    "epsilons = [0.05, 0.1, 0.15]\n",
    "for eps in epsilons:\n",
    "    acc, ex = test(model, device, mnist_test_loader, fgsm_attack, eps)\n",
    "    # Visualize the results\n",
    "\n",
    "# Test PGD Attack\n",
    "eps, alpha, iters = 0.2, 0.01, 40\n",
    "acc, ex = test(model, device, mnist_test_loader, pgd_attack, (eps, alpha, iters))\n",
    "# Visualize the results\n"
   ]
  }
 ],
 "metadata": {
  "language_info": {
   "name": "python"
  }
 },
 "nbformat": 4,
 "nbformat_minor": 2
}
